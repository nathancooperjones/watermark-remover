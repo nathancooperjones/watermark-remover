{
 "cells": [
  {
   "cell_type": "code",
   "execution_count": 1,
   "id": "bfe7531f-1d1b-40af-8659-222f451f4a31",
   "metadata": {},
   "outputs": [],
   "source": [
    "%load_ext autoreload\n",
    "%autoreload 2"
   ]
  },
  {
   "cell_type": "code",
   "execution_count": 2,
   "id": "25af8b69-1683-477b-91d3-e749484beb34",
   "metadata": {},
   "outputs": [],
   "source": [
    "import os\n",
    "from pathlib import Path\n",
    "import warnings\n",
    "\n",
    "import lightning as pl\n",
    "from PIL import Image\n",
    "import torch\n",
    "from torch.utils.data import DataLoader\n",
    "\n",
    "from dataset import WatermarkedDataset\n",
    "from trainer import DifficultyScheduler, WatermarkRemovalModel"
   ]
  },
  {
   "cell_type": "code",
   "execution_count": null,
   "id": "4e311895-a60e-4913-869b-ac2ff05adf6a",
   "metadata": {},
   "outputs": [],
   "source": [
    "warnings.filterwarnings('ignore', category=Image.DecompressionBombWarning)"
   ]
  },
  {
   "cell_type": "code",
   "execution_count": 3,
   "id": "b3ef5a40-d406-4c7b-a001-0e68e5c7df7f",
   "metadata": {},
   "outputs": [],
   "source": [
    "torch.set_float32_matmul_precision(precision='high')"
   ]
  },
  {
   "cell_type": "code",
   "execution_count": 4,
   "id": "b9be10cb-9e98-45af-8bc2-b78db9198abe",
   "metadata": {},
   "outputs": [
    {
     "data": {
      "text/plain": [
       "'cuda'"
      ]
     },
     "execution_count": 4,
     "metadata": {},
     "output_type": "execute_result"
    }
   ],
   "source": [
    "device = 'cuda' if torch.cuda.is_available() else 'cpu'\n",
    "\n",
    "\n",
    "device"
   ]
  },
  {
   "cell_type": "code",
   "execution_count": 5,
   "id": "34a6c9f3-08c0-4852-b767-8df904edcf28",
   "metadata": {},
   "outputs": [],
   "source": [
    "def calculate_difficulty_step(\n",
    "    initial_difficulty: float,\n",
    "    max_difficulty: float,\n",
    "    max_epochs: int,\n",
    ") -> float:\n",
    "    \"\"\"\n",
    "    Calculate the step size for difficulty increase based on epochs.\n",
    "\n",
    "    Parameters\n",
    "    ----------\n",
    "    initial_difficulty: float\n",
    "        Starting difficulty level between ``0`` and ``1``\n",
    "    max_difficulty: float\n",
    "        Target difficulty level between ``0`` and ``1``\n",
    "    max_epochs: int\n",
    "        Number of epochs to train for\n",
    "\n",
    "    Returns\n",
    "    -------\n",
    "    step_size: float\n",
    "        Amount to increase difficulty by each epoch\n",
    "\n",
    "    \"\"\"\n",
    "    total_difficulty_increase = max_difficulty - initial_difficulty\n",
    "    return total_difficulty_increase / max_epochs"
   ]
  },
  {
   "cell_type": "code",
   "execution_count": 6,
   "id": "8d646986-1633-45eb-9679-48337fd9ed55",
   "metadata": {},
   "outputs": [],
   "source": [
    "initial_difficulty = 0.25\n",
    "max_difficulty = 0.95\n",
    "max_epochs = 75\n",
    "\n",
    "image_size = 512"
   ]
  },
  {
   "cell_type": "code",
   "execution_count": 7,
   "id": "72906168-1ac4-4097-ad10-1c3b3a30c863",
   "metadata": {},
   "outputs": [],
   "source": [
    "# calculate difficulty step size\n",
    "difficulty_step = calculate_difficulty_step(\n",
    "    initial_difficulty=initial_difficulty,\n",
    "    max_difficulty=max_difficulty,\n",
    "    max_epochs=max_epochs,\n",
    ")"
   ]
  },
  {
   "cell_type": "code",
   "execution_count": 8,
   "id": "44bf41a1-df3b-47ee-bc3a-0c638fc0aca2",
   "metadata": {},
   "outputs": [
    {
     "data": {
      "text/plain": [
       "(1875, 209)"
      ]
     },
     "execution_count": 8,
     "metadata": {},
     "output_type": "execute_result"
    }
   ],
   "source": [
    "common_dataset_kwargs = {\n",
    "    'difficulty': initial_difficulty,\n",
    "    'image_size': image_size,\n",
    "}\n",
    "common_dataloader_kwargs = {\n",
    "    # 'batch_size': 16,\n",
    "    'batch_size': 24,\n",
    "    'num_workers': os.cpu_count(),\n",
    "}\n",
    "\n",
    "train_dataset = WatermarkedDataset(\n",
    "    root_dir='/home/nathancooperjones/Desktop/imagenet-1k/train_images/',\n",
    "    **common_dataset_kwargs,\n",
    ")\n",
    "val_dataset = WatermarkedDataset(\n",
    "    root_dir='/home/nathancooperjones/Desktop/imagenet-1k/test_images/',\n",
    "    **common_dataset_kwargs,\n",
    ")\n",
    "\n",
    "train_dataloader = DataLoader(\n",
    "    dataset=train_dataset,\n",
    "    shuffle=True,\n",
    "    **common_dataloader_kwargs,\n",
    ")\n",
    "val_dataloader = DataLoader(\n",
    "    dataset=val_dataset,\n",
    "    shuffle=False,\n",
    "    **common_dataloader_kwargs,\n",
    ")\n",
    "\n",
    "\n",
    "len(train_dataloader), len(val_dataloader)"
   ]
  },
  {
   "cell_type": "code",
   "execution_count": 9,
   "id": "b19c6793-d330-48b5-89bb-b304051033c4",
   "metadata": {},
   "outputs": [],
   "source": [
    "model = WatermarkRemovalModel(\n",
    "    learning_rate=5e-4,\n",
    ")"
   ]
  },
  {
   "cell_type": "code",
   "execution_count": 10,
   "id": "30199cb4-6c22-477d-9da5-9d53e5082572",
   "metadata": {},
   "outputs": [
    {
     "name": "stderr",
     "output_type": "stream",
     "text": [
      "Using 16bit Automatic Mixed Precision (AMP)\n",
      "GPU available: True (cuda), used: True\n",
      "TPU available: False, using: 0 TPU cores\n",
      "HPU available: False, using: 0 HPUs\n"
     ]
    }
   ],
   "source": [
    "# create trainer\n",
    "trainer = pl.Trainer(\n",
    "    max_epochs=max_epochs,\n",
    "    accelerator=device,\n",
    "    logger=pl.pytorch.loggers.CSVLogger(save_dir='logs'),\n",
    "    enable_checkpointing=True,\n",
    "    benchmark=True,\n",
    "    deterministic=False,\n",
    "    callbacks=[\n",
    "        pl.pytorch.callbacks.ModelCheckpoint(\n",
    "            dirpath='checkpoints',\n",
    "            filename='watermark-removal-{epoch:02d}-{val_total_loss:.2f}',\n",
    "            monitor='val_total_loss',\n",
    "            mode='min',\n",
    "            save_top_k=3,\n",
    "        ),\n",
    "        pl.pytorch.callbacks.EarlyStopping(\n",
    "            monitor='val_total_loss',\n",
    "            patience=3,\n",
    "            mode='min',\n",
    "        ),\n",
    "        DifficultyScheduler(\n",
    "            initial_difficulty=initial_difficulty,\n",
    "            max_difficulty=max_difficulty,\n",
    "            step_size=difficulty_step,\n",
    "        ),\n",
    "    ],\n",
    "    precision='16-mixed',\n",
    ")"
   ]
  },
  {
   "cell_type": "code",
   "execution_count": null,
   "id": "f2431b3d-cfe6-4ea1-a144-1909af492169",
   "metadata": {},
   "outputs": [
    {
     "name": "stderr",
     "output_type": "stream",
     "text": [
      "LOCAL_RANK: 0 - CUDA_VISIBLE_DEVICES: [0]\n",
      "/home/nathancooperjones/miniconda3/lib/python3.11/site-packages/torch/optim/lr_scheduler.py:62: UserWarning: The verbose parameter is deprecated. Please use get_last_lr() to access the learning rate.\n",
      "  warnings.warn(\n",
      "\n",
      "   | Name       | Type       | Params | Mode \n",
      "---------------------------------------------------\n",
      "0  | enc_1      | DoubleConv | 39.0 K | train\n",
      "1  | enc_2      | DoubleConv | 221 K  | train\n",
      "2  | enc_3      | DoubleConv | 886 K  | train\n",
      "3  | enc_4      | DoubleConv | 3.5 M  | train\n",
      "4  | enc_5      | DoubleConv | 14.2 M | train\n",
      "5  | dec_5      | DoubleConv | 7.1 M  | train\n",
      "6  | dec_4      | DoubleConv | 3.0 M  | train\n",
      "7  | dec_3      | DoubleConv | 738 K  | train\n",
      "8  | dec_2      | DoubleConv | 184 K  | train\n",
      "9  | dec1       | DoubleConv | 110 K  | train\n",
      "10 | pool       | MaxPool2d  | 0      | train\n",
      "11 | upsample   | Upsample   | 0      | train\n",
      "12 | final_conv | Conv2d     | 195    | train\n",
      "13 | activation | Sigmoid    | 0      | train\n",
      "14 | vgg        | Sequential | 1.7 M  | eval \n",
      "---------------------------------------------------\n",
      "29.9 M    Trainable params\n",
      "1.7 M     Non-trainable params\n",
      "31.7 M    Total params\n",
      "126.609   Total estimated model params size (MB)\n",
      "74        Modules in train mode\n",
      "17        Modules in eval mode\n"
     ]
    },
    {
     "data": {
      "application/vnd.jupyter.widget-view+json": {
       "model_id": "",
       "version_major": 2,
       "version_minor": 0
      },
      "text/plain": [
       "Sanity Checking: |                                                                                            …"
      ]
     },
     "metadata": {},
     "output_type": "display_data"
    },
    {
     "data": {
      "application/vnd.jupyter.widget-view+json": {
       "model_id": "44bf667c49a14561b7c30131b692ff1a",
       "version_major": 2,
       "version_minor": 0
      },
      "text/plain": [
       "Training: |                                                                                                   …"
      ]
     },
     "metadata": {},
     "output_type": "display_data"
    },
    {
     "name": "stderr",
     "output_type": "stream",
     "text": [
      "/home/nathancooperjones/miniconda3/lib/python3.11/site-packages/PIL/Image.py:3182: DecompressionBombWarning: Image size (104509729 pixels) exceeds limit of 89478485 pixels, could be decompression bomb DOS attack.\n",
      "  warnings.warn(\n"
     ]
    },
    {
     "data": {
      "application/vnd.jupyter.widget-view+json": {
       "model_id": "",
       "version_major": 2,
       "version_minor": 0
      },
      "text/plain": [
       "Validation: |                                                                                                 …"
      ]
     },
     "metadata": {},
     "output_type": "display_data"
    },
    {
     "name": "stderr",
     "output_type": "stream",
     "text": [
      "/home/nathancooperjones/miniconda3/lib/python3.11/site-packages/PIL/Image.py:3182: DecompressionBombWarning: Image size (110355025 pixels) exceeds limit of 89478485 pixels, could be decompression bomb DOS attack.\n",
      "  warnings.warn(\n"
     ]
    },
    {
     "data": {
      "application/vnd.jupyter.widget-view+json": {
       "model_id": "",
       "version_major": 2,
       "version_minor": 0
      },
      "text/plain": [
       "Validation: |                                                                                                 …"
      ]
     },
     "metadata": {},
     "output_type": "display_data"
    },
    {
     "name": "stderr",
     "output_type": "stream",
     "text": [
      "/home/nathancooperjones/miniconda3/lib/python3.11/site-packages/PIL/Image.py:3182: DecompressionBombWarning: Image size (110397049 pixels) exceeds limit of 89478485 pixels, could be decompression bomb DOS attack.\n",
      "  warnings.warn(\n"
     ]
    }
   ],
   "source": [
    "# train the model\n",
    "trainer.fit(\n",
    "    model=model,\n",
    "    train_dataloaders=train_dataloader,\n",
    "    val_dataloaders=val_dataloader,\n",
    ")"
   ]
  },
  {
   "cell_type": "markdown",
   "id": "0ba77b85-9248-44e8-b6a3-048c5e0d6b99",
   "metadata": {},
   "source": [
    "----- "
   ]
  }
 ],
 "metadata": {
  "kernelspec": {
   "display_name": "Python 3 (ipykernel)",
   "language": "python",
   "name": "python3"
  },
  "language_info": {
   "codemirror_mode": {
    "name": "ipython",
    "version": 3
   },
   "file_extension": ".py",
   "mimetype": "text/x-python",
   "name": "python",
   "nbconvert_exporter": "python",
   "pygments_lexer": "ipython3",
   "version": "3.11.4"
  }
 },
 "nbformat": 4,
 "nbformat_minor": 5
}
